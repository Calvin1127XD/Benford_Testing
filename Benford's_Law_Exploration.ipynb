{
  "nbformat": 4,
  "nbformat_minor": 0,
  "metadata": {
    "colab": {
      "provenance": []
    },
    "kernelspec": {
      "name": "python3",
      "display_name": "Python 3"
    },
    "language_info": {
      "name": "python"
    }
  },
  "cells": [
    {
      "cell_type": "markdown",
      "source": [
        "## **Benford's Law Exploration by Calvin Wong**\n"
      ],
      "metadata": {
        "id": "dbDi4n05RsU5"
      }
    },
    {
      "cell_type": "code",
      "execution_count": null,
      "metadata": {
        "id": "CJIVHCsfPomL",
        "cellView": "form"
      },
      "outputs": [],
      "source": [
        "#@title Please press the play button to start the program. Upload PDF only.\n",
        "%pip install PyPDF2\n",
        "from scipy import stats\n",
        "from PyPDF2 import PdfReader\n",
        "import matplotlib.pyplot as plt\n",
        "from collections import defaultdict\n",
        "import re\n",
        "from scipy.stats import chisquare\n",
        "import numpy as np\n",
        "from math import log10\n",
        "from google.colab import files\n",
        "\n",
        "def extract_numbers_from_pdf(file_path):\n",
        "    pdf_reader = PdfReader(file_path)\n",
        "    text = \"\"\n",
        "    for page in pdf_reader.pages:\n",
        "        text += page.extract_text()\n",
        "    numbers = []\n",
        "    for word in text.split():\n",
        "        if not any(char.isdigit() for char in word):\n",
        "            continue\n",
        "        if '.' in word:\n",
        "            word = re.sub('^0*\\.', '.', word)\n",
        "        else:\n",
        "            word = word.lstrip('0')\n",
        "        leading_digit = next((char for char in word if char.isdigit()), None)\n",
        "        if leading_digit is not None:\n",
        "            numbers.append(int(leading_digit))\n",
        "    return numbers\n",
        "\n",
        "def benford_expected():\n",
        "    return [log10(1 + 1/digit) for digit in range(1, 10)]\n",
        "\n",
        "# User uploads file\n",
        "uploaded = files.upload()\n",
        "file_path = list(uploaded.keys())[0]\n",
        "\n",
        "numbers = extract_numbers_from_pdf(file_path)\n",
        "numbers = [num for num in numbers if num != 0]\n",
        "if numbers:\n",
        "    digit_count = defaultdict(int)\n",
        "    total = 0\n",
        "    for number in numbers:\n",
        "        digit_count[number] += 1\n",
        "        total += 1\n",
        "\n",
        "    observed_counts = [digit_count[i] for i in range(1, 10)]\n",
        "    expected_proportions = benford_expected()\n",
        "    expected_counts = [e * total for e in expected_proportions]\n",
        "    chi_square_stat, p_val = chisquare(observed_counts, f_exp=expected_counts)\n",
        "\n",
        "    print(f\"Chi-Square Statistic: {chi_square_stat:.4f}\")\n",
        "    print(f\"Lower Chi-Square statistics means the document is more likely to be authentic.\")\n",
        "\n",
        "    plt.figure(figsize=(6, 6))\n",
        "    sorted_keys = sorted(digit_count.keys())\n",
        "    bars = plt.bar(sorted_keys, [digit_count[i] / total * 100 for i in sorted_keys], tick_label=sorted_keys)\n",
        "\n",
        "    for bar in bars:\n",
        "        yval = bar.get_height()\n",
        "        plt.text(bar.get_x() + bar.get_width()/2, yval, f'{yval:.1f}%',\n",
        "                 ha='center', va='bottom')\n",
        "\n",
        "    plt.xlabel('Digits')\n",
        "    plt.ylabel('Frequency (%)')\n",
        "    plt.title('Frequency of Leading Digits')\n",
        "    plt.show()\n"
      ]
    }
  ]
}